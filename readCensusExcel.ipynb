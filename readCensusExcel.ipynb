{
 "cells": [
  {
   "cell_type": "markdown",
   "id": "3c6ac7ad-f461-4934-ba6f-d6af4088e7ea",
   "metadata": {},
   "source": [
    "# Tabulates population and number of census tracts for each county"
   ]
  },
  {
   "cell_type": "markdown",
   "id": "3865bd05-73ee-4655-bf20-11863f6f4ea0",
   "metadata": {},
   "source": [
    "## Import packages"
   ]
  },
  {
   "cell_type": "code",
   "execution_count": 4,
   "id": "0e5816ca-188b-4a19-9911-59b49ed24b61",
   "metadata": {},
   "outputs": [],
   "source": [
    "import openpyxl\n",
    "import pprint\n",
    "from pathlib import Path"
   ]
  },
  {
   "cell_type": "markdown",
   "id": "e2ee8168-8b8b-4828-9a44-e2afd6770b9a",
   "metadata": {},
   "source": [
    "## Open workbook"
   ]
  },
  {
   "cell_type": "code",
   "execution_count": 7,
   "id": "8085fa00-f43c-40aa-9a7e-90c69c3b115f",
   "metadata": {},
   "outputs": [],
   "source": [
    "wb = openpyxl.load_workbook(Path('automate_online-materials','censuspopdata.xlsx'))\n",
    "sheet = wb['Population by Census Tract']"
   ]
  },
  {
   "cell_type": "markdown",
   "id": "68e05d7f-e202-4666-898f-976d414c6bec",
   "metadata": {},
   "source": [
    "## Fill in countyData with each county's population and tracts"
   ]
  },
  {
   "cell_type": "code",
   "execution_count": 8,
   "id": "d6e93823-b163-4561-985a-8e3fe28dc828",
   "metadata": {},
   "outputs": [],
   "source": [
    "countyData = {}\n",
    "for row in range(2, sheet.max_row+1):\n",
    "    state = sheet['B' + str(row)].value\n",
    "    county = sheet['c' + str(row)].value\n",
    "    pop = sheet['D' + str(row)].value\n",
    "    \n",
    "    # Make sure the key for this state exists.\n",
    "    countyData.setdefault(state, {})\n",
    "    # Make sure the key for this county in this state exists.\n",
    "    countyData[state].setdefault(county, {'tracts': 0, 'pop': 0})\n",
    "    \n",
    "    # Each row represents one census tract, so increment by one.\n",
    "    countyData[state][county]['tracts'] += 1\n",
    "    # Increase the county pop by the pop in this census tract.\n",
    "    countyData[state][county]['pop'] += int(pop)"
   ]
  },
  {
   "cell_type": "markdown",
   "id": "7545bbdd-1212-4c6a-ae3f-6777ac569f4a",
   "metadata": {},
   "source": [
    "## Open a new textfile and write the contents of countyData to it"
   ]
  },
  {
   "cell_type": "code",
   "execution_count": 9,
   "id": "1a963136-92fd-4b42-b4d7-41c450d5b19f",
   "metadata": {},
   "outputs": [],
   "source": [
    "with open('census2010.py', 'w') as resultFile:\n",
    "    resultFile.write('allData = ' + pprint.pformat(countyData))"
   ]
  },
  {
   "cell_type": "markdown",
   "id": "608dd57f-2cca-45e0-a362-062c8f479d7a",
   "metadata": {},
   "source": [
    "## Import Census Data"
   ]
  },
  {
   "cell_type": "code",
   "execution_count": 10,
   "id": "c6a28649-7749-4aa2-b354-ba856871cb83",
   "metadata": {},
   "outputs": [],
   "source": [
    "import census2010"
   ]
  },
  {
   "cell_type": "code",
   "execution_count": 13,
   "id": "6e8c228b-a90b-41e4-890c-21b866ece2d0",
   "metadata": {},
   "outputs": [
    {
     "data": {
      "text/plain": [
       "247336"
      ]
     },
     "execution_count": 13,
     "metadata": {},
     "output_type": "execute_result"
    }
   ],
   "source": [
    "census2010.allData['FL']['Alachua']['pop']"
   ]
  },
  {
   "cell_type": "code",
   "execution_count": null,
   "id": "1e076340-d6ed-473d-ba52-21984759e69a",
   "metadata": {},
   "outputs": [],
   "source": []
  }
 ],
 "metadata": {
  "kernelspec": {
   "display_name": "Python [conda env:automate_python]",
   "language": "python",
   "name": "conda-env-automate_python-py"
  },
  "language_info": {
   "codemirror_mode": {
    "name": "ipython",
    "version": 3
   },
   "file_extension": ".py",
   "mimetype": "text/x-python",
   "name": "python",
   "nbconvert_exporter": "python",
   "pygments_lexer": "ipython3",
   "version": "3.10.0"
  }
 },
 "nbformat": 4,
 "nbformat_minor": 5
}
